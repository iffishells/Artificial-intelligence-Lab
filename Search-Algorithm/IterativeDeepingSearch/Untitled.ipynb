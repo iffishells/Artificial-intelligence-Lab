{
 "cells": [
  {
   "cell_type": "code",
   "execution_count": 2,
   "metadata": {},
   "outputs": [],
   "source": [
    "class problem:\n",
    "    \n",
    "    def __init__(self,initial ,goal=None):\n",
    "        self.initial = initial\n",
    "        self.goal = goal\n",
    "        \n",
    "    def actions(self,state):\n",
    "        raise NotImplementedError\n",
    "        \n",
    "    def result(self,state ,action):\n",
    "        raise NotImplementedError\n",
    "        \n",
    "    def goal_test(self,state):\n",
    "        return state == self.goal\n",
    "    \n",
    "    def path_cost(self,c,state1,action,state2):\n",
    "        return c+1\n",
    "    def value(self,state):\n",
    "        raise NotImplementedError\n",
    "        \n",
    "        "
   ]
  },
  {
   "cell_type": "code",
   "execution_count": 3,
   "metadata": {},
   "outputs": [],
   "source": [
    "infinity= float('inf')\n",
    "class GraphProblem(problem):\n",
    "    \n",
    "    def  __init__(self,initial,goal,graph):\n",
    "        super().__init__(self,initial,goal)\n",
    "        self.graph =graph\n",
    "        \n",
    "    def actions(self,node):\n",
    "        return self.graph.get(node)\n",
    "    \n",
    "    def result(self,state ,action):\n",
    "        return action\n",
    "\n",
    "    def path_cost(self,cost_so_for,A , action ,B):\n",
    "        \n",
    "        return cost_so_for + (self.graph.get(A,B) or infinity)\n",
    "    \n"
   ]
  },
  {
   "cell_type": "code",
   "execution_count": 9,
   "metadata": {},
   "outputs": [],
   "source": [
    "class Node:\n",
    "    \n",
    "    def __init__(self,state ,parent= None , action = None , path_cost =0):\n",
    "        self.state = "
   ]
  },
  {
   "cell_type": "code",
   "execution_count": 12,
   "metadata": {},
   "outputs": [
    {
     "ename": "KeyError",
     "evalue": "0",
     "output_type": "error",
     "traceback": [
      "\u001b[0;31m---------------------------------------------------------------------------\u001b[0m",
      "\u001b[0;31mKeyError\u001b[0m                                  Traceback (most recent call last)",
      "\u001b[0;32m<ipython-input-12-28560ebd2aad>\u001b[0m in \u001b[0;36m<module>\u001b[0;34m\u001b[0m\n\u001b[0;32m----> 1\u001b[0;31m \u001b[0mromania_map\u001b[0m\u001b[0;34m.\u001b[0m\u001b[0mget\u001b[0m\u001b[0;34m(\u001b[0m\u001b[0;34m\"Vaslui\"\u001b[0m\u001b[0;34m,\u001b[0m\u001b[0;34m\"Neamt\"\u001b[0m\u001b[0;34m)\u001b[0m\u001b[0;34m[\u001b[0m\u001b[0;36m0\u001b[0m\u001b[0;34m]\u001b[0m\u001b[0;34m\u001b[0m\u001b[0;34m\u001b[0m\u001b[0m\n\u001b[0m",
      "\u001b[0;31mKeyError\u001b[0m: 0"
     ]
    }
   ],
   "source": [
    "romania_map = Graph(dict( {'Arad': {'Zerind': 75, 'Sibiu': 140, 'Timisoara': 118},\n",
    "                           \n",
    "             'Bucharest': {'Urziceni': 85, 'Pitesti': 101, 'Giurgiu': 90, 'Fagaras': 211}, \n",
    "                           \n",
    "             'Craiova': {'Drobeta': 120, 'Rimnicu': 146, 'Pitesti': 138}, \n",
    "                           \n",
    "             'Drobeta': {'Mehadia': 75, 'Craiova': 120}, \n",
    "                           \n",
    "             'Eforie': {'Hirsova': 86}, \n",
    "                           \n",
    "             'Fagaras': {'Sibiu': 99, 'Bucharest': 211},\n",
    "                           \n",
    "             'Hirsova': {'Urziceni': 98, 'Eforie': 86},\n",
    "                           \n",
    "             'Iasi': {'Vaslui': 92, 'Neamt': 87},\n",
    "                           \n",
    "             'Lugoj': {'Timisoara': 111, 'Mehadia': 70},\n",
    "                           \n",
    "             'Oradea': {'Zerind': 71, 'Sibiu': 151},\n",
    "                           \n",
    "             'Pitesti': {'Rimnicu': 97, 'Bucharest': 101, 'Craiova': 138},\n",
    "                           \n",
    "             'Rimnicu': {'Sibiu': 80, 'Craiova': 146, 'Pitesti': 97},\n",
    "                           \n",
    "             'Urziceni': {'Vaslui': 142, 'Bucharest': 85, 'Hirsova': 98},\n",
    "                           \n",
    "             'Zerind': {'Arad': 75, 'Oradea': 71},\n",
    "                           \n",
    "             'Sibiu': {'Arad': 140, 'Fagaras': 99, 'Oradea': 151, 'Rimnicu': 80},\n",
    "                           \n",
    "             'Timisoara': {'Arad': 118, 'Lugoj': 111},\n",
    "                           \n",
    "             'Giurgiu': {'Bucharest': 90}, \n",
    "                           \n",
    "             'Mehadia': {'Drobeta': 75, 'Lugoj': 70},\n",
    "                           \n",
    "             'Vaslui': {'Iasi': 92, 'Urziceni': 142},\n",
    "                           \n",
    "             'Neamt': {'Iasi': 87}}),"
   ]
  },
  {
   "cell_type": "code",
   "execution_count": null,
   "metadata": {},
   "outputs": [],
   "source": []
  }
 ],
 "metadata": {
  "kernelspec": {
   "display_name": "Python 3",
   "language": "python",
   "name": "python3"
  },
  "language_info": {
   "codemirror_mode": {
    "name": "ipython",
    "version": 3
   },
   "file_extension": ".py",
   "mimetype": "text/x-python",
   "name": "python",
   "nbconvert_exporter": "python",
   "pygments_lexer": "ipython3",
   "version": "3.8.3"
  }
 },
 "nbformat": 4,
 "nbformat_minor": 4
}
