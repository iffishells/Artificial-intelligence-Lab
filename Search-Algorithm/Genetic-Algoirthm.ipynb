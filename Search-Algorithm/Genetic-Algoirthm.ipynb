{
 "cells": [
  {
   "cell_type": "code",
   "execution_count": 155,
   "id": "6bb4b091",
   "metadata": {},
   "outputs": [],
   "source": [
    "import random as rand\n",
    "import numpy.random as rand_2"
   ]
  },
  {
   "cell_type": "code",
   "execution_count": 156,
   "id": "fdbe5542",
   "metadata": {},
   "outputs": [],
   "source": [
    "## Convert N DIM  X N Dim Array into 1 X N Array Dim"
   ]
  },
  {
   "cell_type": "code",
   "execution_count": 157,
   "id": "1c13571b",
   "metadata": {},
   "outputs": [],
   "source": [
    "# Problem :     [  [0, 0, 0, 0],\n",
    "#                  [0, 0, 0, 0],\n",
    "#                  [0, 0, 0, 0],\n",
    "#                  [0, 0, 0, 0]  ]\n",
    "# Goal:    [  [1, 1, 1, 1],\n",
    "#             [1, 1, 1, 1],\n",
    "#             [1, 1, 1, 1],\n",
    "#             [1, 1, 1, 1]  ]\n",
    "\n",
    "# Generating population randomly\n",
    "def generate_population(array):\n",
    "    temp_array = array.copy()\n",
    "    chromosome = []\n",
    "    \n",
    "    for i in range(len(array)):  # Iterating over 2D array\n",
    "        row = array[i]    # Taking row or element of 2D array\n",
    "        chromosome.extend(row)   # As chromosome is 1D array\n",
    "    \n",
    "    population = [chromosome.copy() for _  in range(4)]   # Initializing 4 chromosmes for populaiton\n",
    "\n",
    "    for i in range(4):\n",
    "        print(\"---> \",population[i])\n",
    "        individual_chromosome = population[i]   \n",
    "\n",
    "        for rand_ind in [rand.randrange(0, len(array)) for _ in range(8)]:   # Generating random indices to change value of\n",
    "            individual_chromosome[rand_ind] = 1\n",
    "\n",
    "    return population\n",
    "\n",
    "# calculating fitness value of any individual\n",
    "def calculate_fitness(individual):\n",
    "    num_of_ones = 0\n",
    "    \n",
    "    for i in range(len(individual)):\n",
    "        num_of_ones = num_of_ones + individual[i]   # As each value is simply 0 or 1 so we can know number of 1's by siply adding\n",
    "    \n",
    "    return num_of_ones\n",
    "\n",
    "# Check if any individual is fit enough to be the goal state or desirable\n",
    "def individual_fit_enough(population, fitness_threshold=16):\n",
    "    fittest_individual = max(population, key=calculate_fitness)\n",
    "    \n",
    "    if calculate_fitness(fittest_individual) == fitness_threshold:  # If fitness value of any individual is equal to 16\n",
    "        return True\n",
    "    \n",
    "    return False\n",
    "\n",
    "# Randomly select any individual from population by its selection_prob\n",
    "def select(population, calculate_fitness):\n",
    "    fitness_values = [calculate_fitness(individual) for individual in population]  # fitness values of population\n",
    "    sum_fitness = sum(fitness_values)  # sum of fitness values\n",
    "    selection_probs = [fitness_values[index]/sum_fitness for index, individual in enumerate(population)]  # Array holding selection prob for each individual  selection_prob(of individual) = fitness_value(of individual) / sum_of_all_fitness_values\n",
    "    \n",
    "    population_indices = [ind for ind in range(len(population))]   # Indices of individual in population, necessary for numpy.random.choice as it requires a=1D array\n",
    "    selected_individual_index = rand_2.choice(population_indices, p=selection_probs)   # p is the selected_probs of corresponding individuals\n",
    "    \n",
    "    return population[selected_individual_index]\n",
    "\n",
    "# Reproduce a child using x and y chromosme\n",
    "def reproduce(x, y):\n",
    "    n = len(x)\n",
    "    c = rand.randint(0,n)   \n",
    "    return x[:c] + y[c:]  # x upto random n index extended with y from random n index\n",
    "\n",
    "# mutate a chile using prob 0.1\n",
    "def mutate(child):\n",
    "    new_child = child.copy()\n",
    "    rand_index = rand.randint(0, len(child)-1)  # len(child)-1 as we need between 0 to 15 index value\n",
    "    rand_value = rand.randint(0, 1)\n",
    "    new_child[rand_index] = rand_value\n",
    "    return new_child\n",
    "    \n",
    "\n",
    "# genetic search\n",
    "def genetic_search(population, calculate_fitness):\n",
    "    \n",
    "    while not individual_fit_enough(population):   # repeat until any individual is fit enough or time limit\n",
    "        new_population = []\n",
    "        \n",
    "        for i in range(len(population)):\n",
    "            x = select(population, calculate_fitness)\n",
    "            y = select(population, calculate_fitness)\n",
    "            \n",
    "            child = reproduce(x, y)\n",
    "            if (rand.uniform(0,1) <= 0.1):  # mutate with prob 0.1\n",
    "                child = mutate(child)\n",
    "            \n",
    "            new_population.append(child)\n",
    "            \n",
    "        population = new_population\n",
    "        \n",
    "    return max(population, key=calculate_fitness)   # return most fitted"
   ]
  },
  {
   "cell_type": "code",
   "execution_count": 158,
   "id": "b5a22d71",
   "metadata": {},
   "outputs": [
    {
     "name": "stdout",
     "output_type": "stream",
     "text": [
      "--->  [0, 0, 0, 0, 0, 0, 0, 0, 0, 0, 0, 0, 0, 0, 0, 0]\n",
      "--->  [0, 0, 0, 0, 0, 0, 0, 0, 0, 0, 0, 0, 0, 0, 0, 0]\n",
      "--->  [0, 0, 0, 0, 0, 0, 0, 0, 0, 0, 0, 0, 0, 0, 0, 0]\n",
      "--->  [0, 0, 0, 0, 0, 0, 0, 0, 0, 0, 0, 0, 0, 0, 0, 0]\n",
      "[[1, 1, 0, 1, 0, 0, 0, 0, 0, 0, 0, 0, 0, 0, 0, 0], [1, 1, 1, 1, 0, 0, 0, 0, 0, 0, 0, 0, 0, 0, 0, 0], [1, 1, 1, 1, 0, 0, 0, 0, 0, 0, 0, 0, 0, 0, 0, 0], [1, 1, 1, 1, 0, 0, 0, 0, 0, 0, 0, 0, 0, 0, 0, 0]]\n",
      "goal [1, 1, 1, 1, 1, 1, 1, 1, 1, 1, 1, 1, 1, 1, 1, 1]\n"
     ]
    }
   ],
   "source": [
    "population = generate_population([  [0, 0, 0, 0],\n",
    "                                    [0, 0, 0, 0],\n",
    "                                    [0, 0, 0, 0],\n",
    "                                    [0, 0, 0, 0]  ]\n",
    "    )\n",
    "individual_fit_enough(population)\n",
    "print(population)\n",
    "select(population, calculate_fitness)\n",
    "print('goal', genetic_search(population, calculate_fitness))"
   ]
  },
  {
   "cell_type": "code",
   "execution_count": 123,
   "id": "1fad9822",
   "metadata": {},
   "outputs": [],
   "source": []
  },
  {
   "cell_type": "code",
   "execution_count": 124,
   "id": "94e4b924",
   "metadata": {},
   "outputs": [],
   "source": []
  },
  {
   "cell_type": "code",
   "execution_count": 125,
   "id": "64457748-42ed-4fcd-8b20-7ec7b79e7823",
   "metadata": {},
   "outputs": [],
   "source": []
  },
  {
   "cell_type": "code",
   "execution_count": 138,
   "id": "c11d8e61-8403-4e3f-8135-ccfaa9b99073",
   "metadata": {},
   "outputs": [],
   "source": []
  },
  {
   "cell_type": "code",
   "execution_count": null,
   "id": "572479c6-d88c-4d44-b44c-2700eb006ac6",
   "metadata": {},
   "outputs": [],
   "source": []
  },
  {
   "cell_type": "code",
   "execution_count": null,
   "id": "4dd200a6-3727-44ab-bbb2-8e8e1b5bdaef",
   "metadata": {},
   "outputs": [],
   "source": []
  },
  {
   "cell_type": "code",
   "execution_count": null,
   "id": "540fa1d1-5726-457e-a7b6-ca0509a0a3c1",
   "metadata": {},
   "outputs": [],
   "source": []
  }
 ],
 "metadata": {
  "kernelspec": {
   "display_name": "Python 3",
   "language": "python",
   "name": "python3"
  },
  "language_info": {
   "codemirror_mode": {
    "name": "ipython",
    "version": 3
   },
   "file_extension": ".py",
   "mimetype": "text/x-python",
   "name": "python",
   "nbconvert_exporter": "python",
   "pygments_lexer": "ipython3",
   "version": "3.8.3"
  }
 },
 "nbformat": 4,
 "nbformat_minor": 5
}
