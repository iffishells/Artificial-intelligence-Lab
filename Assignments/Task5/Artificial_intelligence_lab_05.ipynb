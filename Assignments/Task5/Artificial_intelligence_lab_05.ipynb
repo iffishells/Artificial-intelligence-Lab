{
  "nbformat": 4,
  "nbformat_minor": 0,
  "metadata": {
    "colab": {
      "name": "Artificial-intelligence-lab-05.ipynb",
      "provenance": [],
      "collapsed_sections": []
    },
    "kernelspec": {
      "name": "python3",
      "display_name": "Python 3"
    },
    "language_info": {
      "name": "python"
    }
  },
  "cells": [
    {
      "cell_type": "markdown",
      "metadata": {
        "id": "ufO5EI9DHkek"
      },
      "source": [
        "\t\n",
        "## LAB TASK # 05 !!!\n",
        "\n",
        "---\n",
        "\n",
        "\n",
        "\n",
        "# *Use BFS code to implement Uniform Cost Search Algorithm*\n",
        "\t\n",
        "1.  -add extra check to explore only that node which has minimum cost\n",
        "\n",
        "2.   add extra list named as \"visite_node\" to avoid the same node visiting repeatedly\n",
        "\n",
        "\n",
        "\t.\n",
        "\n",
        "# *Use DFS code to implement Depth-Limited First Search and Iterative Deepening First Search*\n",
        "\n",
        "\n",
        "1.   -write a fu/nction to find depth of given node\n",
        "2.   -use this function for depth limited \n",
        "\n",
        "\n",
        "\t\n",
        "\t\n",
        "\n"
      ]
    },
    {
      "cell_type": "markdown",
      "metadata": {
        "id": "k5Q_Bv59IBEf"
      },
      "source": [
        "# ***Uniform Cost Search Algorithm***"
      ]
    },
    {
      "cell_type": "code",
      "metadata": {
        "id": "ND_R3SFuFpfM"
      },
      "source": [
        "class WeightedDiGraph: \n",
        "    def __init__(self): \n",
        "        self.g = {} \n",
        "        \n",
        "    def add_node(self, node): \n",
        "        if node in self.g: \n",
        "            raise ValueError(\"Node already in graph\")\n",
        "            \n",
        "        self.g[node] = [] \n",
        "\n",
        "    def add_edge(self, src, dest, weight): \n",
        "        if src not in self.g: \n",
        "            raise ValueError(\"Source node not in graph\")\n",
        "        if dest not in self.g: \n",
        "            raise ValueError(\"Destination node not in graph\")\n",
        "            \n",
        "        nexts = self.g[src]\n",
        "        if dest in nexts: \n",
        "            return \n",
        "        \n",
        "        nexts.append((dest, weight))\n",
        "g = WeightedDiGraph() \n",
        "\n",
        "nodes = ['a', 'b', 'c', 'd', 'e', 'f'] \n",
        "\n",
        "for n in nodes: \n",
        "    g.add_node(n) \n",
        "\n",
        "edges = [\n",
        "    ('a', 'b', 5),\n",
        "    ('a', 'c', 1),\n",
        "    ('b', 'c', 7),\n",
        "    ('b', 'd', 8),\n",
        "    ('c', 'd', 3),\n",
        "    ('d', 'c', 4),\n",
        "    ('e', 'f', 8),\n",
        "    ('f', 'c', 7)\n",
        "]\n",
        "\n",
        "for e in edges: \n",
        "    g.add_edge(e[0], e[1], e[2])"
      ],
      "execution_count": null,
      "outputs": []
    },
    {
      "cell_type": "code",
      "metadata": {
        "id": "CmlVtkbjF6n0"
      },
      "source": [
        ""
      ],
      "execution_count": null,
      "outputs": []
    },
    {
      "cell_type": "code",
      "metadata": {
        "id": "wIiEVuMIHc7U"
      },
      "source": [
        "\n",
        "import heapq\n",
        "\n",
        "class PriorityQueue:\n",
        "\n",
        "\tdef __init__(self):\n",
        "\t\tself._queue = []\n",
        "\t\tself._index = 0\n",
        "\n",
        "\tdef insert(self, item, priority):\n",
        "\t\theapq.heappush(self._queue, (priority, self._index, item))\n",
        "\t\tself._index += 1\n",
        "\n",
        "\tdef remove(self):\n",
        "\t\treturn heapq.heappop(self._queue)[-1]\n",
        "\n",
        "\tdef is_empty(self):\n",
        "\t\treturn len(self._queue) == 0\n",
        "\n",
        "\n",
        "\n",
        "\n",
        "# class that represents a node\n",
        "class Node:\n",
        "\n",
        "\tdef __init__(self, key):\n",
        "\t\t# self.key is the key of node (unique)\n",
        "\t\t# self.successors are the successors nodes\n",
        "\t\t# self.weight_successors represents weight of edges\n",
        "\t\tself.key, self.successors, self.weight_successors = key, [], {}\n",
        "\n",
        "\t# return the key\n",
        "\tdef getKey(self):\n",
        "\t\treturn self.key\n",
        "\n",
        "\t# return the successors of node\n",
        "\tdef getSuccessors(self):\n",
        "\t\treturn self.successors\n",
        "\n",
        "\t# add a node successor passing the node and the weight\n",
        "\tdef addSuccessor(self, node, weight):\n",
        "\t\t# adds if successor node not exists\n",
        "\t\tif node.getKey() not in self.weight_successors:\n",
        "\t\t\tself.successors.append(node)\n",
        "\t\t\tself.weight_successors[node.getKey()] = weight\n",
        "\n",
        "\t# returns weight of successors\n",
        "\tdef getWeightSuccessors(self):\n",
        "\t\treturn self.weight_successors\n",
        "\n",
        "\n",
        "\n",
        "# class that represents a graph\n",
        "class Graph:\n",
        "\n",
        "\tdef __init__(self):\n",
        "\t\tself.nodes = {} # key: key of node, value: instance of Node\n",
        "\n",
        "\t# adds a node in the graph passing a key\n",
        "\tdef addNode(self, key_node):\n",
        "\t\tif key_node in self.nodes: # checks if the key already exists\n",
        "\t\t\tprint('Error: key %s already exists!!' % key_node)\n",
        "\t\telse:\n",
        "\t\t\tnode = Node(key_node) # creates a instance of Node\n",
        "\t\t\tself.nodes[key_node] = node # stores the node\n",
        "\n",
        "\t# connects the nodes\n",
        "\tdef connect(self, key_source, key_destination, weight):\n",
        "\t\t# checks if the keys exists in the graph\n",
        "\t\tif key_source in self.nodes and key_destination in self.nodes:\n",
        "\t\t\tif key_source != key_destination: # checks if the keys are differents\n",
        "\t\t\t\tif weight > 0: # checks if the weight is positive\n",
        "\t\t\t\t\t# connects the nodes\n",
        "\t\t\t\t\tself.nodes[key_source].addSuccessor(self.nodes[key_destination], weight)\n",
        "\t\t\t\telse:\n",
        "\t\t\t\t\tprint('Error: weight negative!!')\n",
        "\t\t\telse:\n",
        "\t\t\t\tprint('Error: same keys!!')\n",
        "\t\telse:\n",
        "\t\t\tprint('Error: key not exists!!')\n",
        "\n",
        "\n",
        "\t# returns weight of edge \n",
        "\tdef getWeightEdge(self, key_source, key_successor):\n",
        "\t\tif key_source in self.nodes and key_successor in self.nodes: # checks if the keys exists\n",
        "\t\t\tif key_source != key_successor: # checks if the keys are differents\n",
        "\t\t\t\tweight_successors = self.nodes[key_source].getWeightSuccessors()\n",
        "\t\t\t\tif key_successor in weight_successors: # checks if key_successor is a successor\n",
        "\t\t\t\t\treturn weight_successors[key_successor] # returns the weight\n",
        "\t\t\t\telse:\n",
        "\t\t\t\t\tprint('Error: successor not exists!!')\n",
        "\t\t\telse:\n",
        "\t\t\t\tprint('Error: same keys!!')\n",
        "\t\telse:\n",
        "\t\t\tprint('Error: key not exists!!')\n",
        "\n",
        "\n",
        "\t# returns the keys of all successors of a node\n",
        "\tdef getSuccessors(self, key_node):\n",
        "\t\tif key_node in self.nodes:\n",
        "\t\t\tnodes = self.nodes[key_node].getSuccessors()\n",
        "\t\t\tkeys_successors = [node.getKey() for node in nodes]\n",
        "\t\t\treturn keys_successors\n",
        "\t\telse:\n",
        "\t\t\tprint('Error: key not exists!!')\n",
        "\n",
        "\n",
        "\t# returns all nodes\n",
        "\tdef getNodes(self):\n",
        "\t\treturn self.nodes\n"
      ],
      "execution_count": 22,
      "outputs": []
    },
    {
      "cell_type": "code",
      "metadata": {
        "colab": {
          "base_uri": "https://localhost:8080/"
        },
        "id": "S6T1iDRWSGmH",
        "outputId": "0e02997b-1029-436e-8ce4-cb9301fd0a95"
      },
      "source": [
        "\n",
        "import time\n",
        "\n",
        "def run(graph, key_node_start, key_node_goal, verbose=False, time_sleep=0):\n",
        "\tif key_node_start not in graph.getNodes() or key_node_goal not in graph.getNodes():\n",
        "\t\tprint('Error: key_node_start \\'%s\\' or key_node_goal \\'%s\\' not exists!!' % (key_node_start, key_node_goal))\n",
        "\telse:\n",
        "\t\t# UCS uses priority queue, priority is the cumulative cost (smaller cost)\n",
        "\t\tqueue = PriorityQueue()\n",
        "\n",
        "\t\t# expands initial node\n",
        "\n",
        "\t\t# get the keys of all successors of initial node\n",
        "\t\tkeys_successors = graph.getSuccessors(key_node_start)\n",
        "\n",
        "\t\t# adds the keys of successors in priority queue\n",
        "\t\tfor key_sucessor in keys_successors:\n",
        "\t\t\tweight = graph.getWeightEdge(key_node_start, key_sucessor)\n",
        "\t\t\t# each item of queue is a tuple (key, cumulative_cost)\n",
        "\t\t\tqueue.insert((key_sucessor, weight), weight)\n",
        "\n",
        "\n",
        "\t\treached_goal, cumulative_cost_goal = False, -1\n",
        "\t\twhile not queue.is_empty():\n",
        "\t\t\t# remove item of queue, remember: item of queue is a tuple (key, cumulative_cost)\n",
        "\t\t\tkey_current_node, cost_node = queue.remove() \n",
        "\t\t\tif(key_current_node == key_node_goal):\n",
        "\t\t\t\treached_goal, cumulative_cost_goal = True, cost_node\n",
        "\t\t\t\tbreak\n",
        "\n",
        "\t\t\tif verbose:\n",
        "\t\t\t\t# shows a friendly message\n",
        "\t\t\t\tprint('Expands node \\'%s\\' with cumulative cost %s ...' % (key_current_node, cost_node))\n",
        "\t\t\t\ttime.sleep(time_sleep)\n",
        "\n",
        "\t\t\t# get all successors of key_current_node\n",
        "\t\t\tkeys_successors = graph.getSuccessors(key_current_node)\n",
        "\n",
        "\t\t\tif keys_successors: # checks if contains successors\n",
        "\t\t\t\t# insert all successors of key_current_node in the queue\n",
        "\t\t\t\tfor key_sucessor in keys_successors:\n",
        "\t\t\t\t\tcumulative_cost = graph.getWeightEdge(key_current_node, key_sucessor) + cost_node\n",
        "\t\t\t\t\tqueue.insert((key_sucessor, cumulative_cost), cumulative_cost)\n",
        "\n",
        "\t\tif(reached_goal):\n",
        "\t\t\tprint('\\nReached goal! Cost: %s\\n' % cumulative_cost_goal)\n",
        "\t\telse:\n",
        "\t\t\tprint('\\nUnfulfilled goal.\\n')\n",
        "\n",
        "\n",
        "if __name__ == \"__main__\":\n",
        "\n",
        "\t# build the graph...\n",
        "\t# adds nodes in the graph\n",
        "\tgraph = Graph()\n",
        "\tgraph.addNode('S') # start\n",
        "\tgraph.addNode('a')\n",
        "\tgraph.addNode('b')\n",
        "\tgraph.addNode('c')\n",
        "\tgraph.addNode('d')\n",
        "\tgraph.addNode('e')\n",
        "\tgraph.addNode('f')\n",
        "\tgraph.addNode('G') # goal\n",
        "\tgraph.addNode('h')\n",
        "\tgraph.addNode('p')\n",
        "\tgraph.addNode('q')\n",
        "\tgraph.addNode('r')\n",
        "\t# linking the nodes\n",
        "\tgraph.connect('S', 'd', 3)\n",
        "\tgraph.connect('S', 'e', 9)\n",
        "\tgraph.connect('S', 'p', 1)\n",
        "\tgraph.connect('b', 'a', 2)\n",
        "\tgraph.connect('c', 'a', 2)\n",
        "\tgraph.connect('d', 'b', 1)\n",
        "\tgraph.connect('d', 'c', 8)\n",
        "\tgraph.connect('d', 'e', 2)\n",
        "\tgraph.connect('e', 'h', 8)\n",
        "\tgraph.connect('e', 'r', 2)\n",
        "\tgraph.connect('f', 'c', 3)\n",
        "\tgraph.connect('f', 'G', 2)\n",
        "\tgraph.connect('h', 'p', 4)\n",
        "\tgraph.connect('h', 'q', 4)\n",
        "\tgraph.connect('p', 'q', 15)\n",
        "\tgraph.connect('r', 'f', 1)\n",
        "\n",
        "\trun(graph=graph, key_node_start='S', key_node_goal='G', verbose=True, time_sleep=2)\n"
      ],
      "execution_count": 23,
      "outputs": [
        {
          "output_type": "stream",
          "text": [
            "Expands node 'p' with cumulative cost 1 ...\n",
            "Expands node 'd' with cumulative cost 3 ...\n",
            "Expands node 'b' with cumulative cost 4 ...\n",
            "Expands node 'e' with cumulative cost 5 ...\n",
            "Expands node 'a' with cumulative cost 6 ...\n",
            "Expands node 'r' with cumulative cost 7 ...\n",
            "Expands node 'f' with cumulative cost 8 ...\n",
            "Expands node 'e' with cumulative cost 9 ...\n",
            "\n",
            "Reached goal! Cost: 10\n",
            "\n"
          ],
          "name": "stdout"
        }
      ]
    },
    {
      "cell_type": "code",
      "metadata": {
        "id": "8S16ovwHSNpS"
      },
      "source": [
        ""
      ],
      "execution_count": 9,
      "outputs": []
    },
    {
      "cell_type": "code",
      "metadata": {
        "id": "unjWYYZgSShQ"
      },
      "source": [
        ""
      ],
      "execution_count": 10,
      "outputs": []
    },
    {
      "cell_type": "code",
      "metadata": {
        "colab": {
          "base_uri": "https://localhost:8080/"
        },
        "id": "SlugOpFDSdwc",
        "outputId": "6e0a3809-c1c4-4e27-bfbf-992c1dc4292a"
      },
      "source": [
        ""
      ],
      "execution_count": 12,
      "outputs": [
        {
          "output_type": "stream",
          "text": [
            "{1: [(2, 0), (3, 1)],\n",
            " 2: [(11, 2), (10, 2), (4, 1)],\n",
            " 3: [(5, 3), (20, 11)],\n",
            " 4: [],\n",
            " 5: [(20, 4)],\n",
            " 10: [(18, 5), (17, 4)],\n",
            " 11: [],\n",
            " 17: [],\n",
            " 18: [],\n",
            " 20: []}\n"
          ],
          "name": "stdout"
        }
      ]
    },
    {
      "cell_type": "code",
      "metadata": {
        "colab": {
          "base_uri": "https://localhost:8080/",
          "height": 319
        },
        "id": "XdczTQ76T9Bd",
        "outputId": "9528e74f-219e-4146-9e2e-05f095283731"
      },
      "source": [
        ""
      ],
      "execution_count": 16,
      "outputs": [
        {
          "output_type": "display_data",
          "data": {
            "image/png": "[encoded data removed]",
            "text/plain": [
              "<Figure size 432x288 with 1 Axes>"
            ]
          },
          "metadata": {
            "tags": []
          }
        }
      ]
    },
    {
      "cell_type": "code",
      "metadata": {
        "id": "_yElj4kgUIlz"
      },
      "source": [
        "## class represent Node\n",
        "class Node:\n",
        "\n",
        "    def __init__(self,key):\n",
        "        # self.key is the key of the node\n",
        "        # self.successor are the successor nodes\n",
        "        # self.weight_successor represent weight of the edges\n",
        "\n",
        "        self.key=key\n",
        "        self.successors = []\n",
        "        self.weight_successors = {}\n",
        "\n",
        "    # return key\n",
        "    def getkey(self):\n",
        "        return self.key\n",
        "\n",
        "    # return successor of node\n",
        "\n",
        "    def getsuccessor(self):\n",
        "        return self.successors\n",
        "    \n",
        "    def addSuccessor(self,node,weight):\n",
        "        # adds if successor node not exists\n",
        "        if node.key() not in self.weight_successors:\n",
        "            self.successors.append(node)\n",
        "            self.weight_successors[node.getkey()] = weight\n",
        "\n",
        "    # return weight of successors\n",
        "    def getWeightSuccessor(self):\n",
        "        return self.weight_successors"
      ],
      "execution_count": 17,
      "outputs": []
    },
    {
      "cell_type": "code",
      "metadata": {
        "colab": {
          "base_uri": "https://localhost:8080/",
          "height": 128
        },
        "id": "xId9HmCzY3h1",
        "outputId": "144c490c-750a-4e26-f3a8-f3fb968ef9ba"
      },
      "source": [
        "\n",
        "\n"
      ],
      "execution_count": 18,
      "outputs": [
        {
          "output_type": "error",
          "ename": "SyntaxError",
          "evalue": "ignored",
          "traceback": [
            "\u001b[0;36m  File \u001b[0;32m\"<ipython-input-18-acad49d322ff>\"\u001b[0;36m, line \u001b[0;32m1\u001b[0m\n\u001b[0;31m    def Graph:\u001b[0m\n\u001b[0m             ^\u001b[0m\n\u001b[0;31mSyntaxError\u001b[0m\u001b[0;31m:\u001b[0m invalid syntax\n"
          ]
        }
      ]
    },
    {
      "cell_type": "code",
      "metadata": {
        "id": "3x2OrL8FcQ72"
      },
      "source": [
        "\n",
        "def run(graph, key_node_start, key_node_goal, verbose=False, time_sleep=0):\n",
        "\tif key_node_start not in graph.getNodes() or key_node_goal not in graph.getNodes():\n",
        "\t\tprint('Error: key_node_start \\'%s\\' or key_node_goal \\'%s\\' not exists!!' % (key_node_start, key_node_goal))\n",
        "\telse:\n",
        "\t\t# UCS uses priority queue, priority is the cumulative cost (smaller cost)\n",
        "\t\tqueue = PriorityQueue()\n",
        "\n",
        "\t\t# expands initial node\n",
        "\n",
        "\t\t# get the keys of all successors of initial node\n",
        "\t\tkeys_successors = graph.getSuccessors(key_node_start)\n",
        "\n",
        "\t\t# adds the keys of successors in priority queue\n",
        "\t\tfor key_sucessor in keys_successors:\n",
        "\t\t\tweight = graph.getWeightEdge(key_node_start, key_sucessor)\n",
        "\t\t\t# each item of queue is a tuple (key, cumulative_cost)\n",
        "\t\t\tqueue.insert((key_sucessor, weight), weight)\n",
        "\n",
        "\n",
        "\t\treached_goal, cumulative_cost_goal = False, -1\n",
        "\t\twhile not queue.is_empty():\n",
        "\t\t\t# remove item of queue, remember: item of queue is a tuple (key, cumulative_cost)\n",
        "\t\t\tkey_current_node, cost_node = queue.remove() \n",
        "\t\t\tif(key_current_node == key_node_goal):\n",
        "\t\t\t\treached_goal, cumulative_cost_goal = True, cost_node\n",
        "\t\t\t\tbreak\n",
        "\n",
        "\t\t\tif verbose:\n",
        "\t\t\t\t# shows a friendly message\n",
        "\t\t\t\tprint('Expands node \\'%s\\' with cumulative cost %s ...' % (key_current_node, cost_node))\n",
        "\t\t\t\ttime.sleep(time_sleep)\n",
        "\n",
        "\t\t\t# get all successors of key_current_node\n",
        "\t\t\tkeys_successors = graph.getSuccessors(key_current_node)\n",
        "\n",
        "\t\t\tif keys_successors: # checks if contains successors\n",
        "\t\t\t\t# insert all successors of key_current_node in the queue\n",
        "\t\t\t\tfor key_sucessor in keys_successors:\n",
        "\t\t\t\t\tcumulative_cost = graph.getWeightEdge(key_current_node, key_sucessor) + cost_node\n",
        "\t\t\t\t\tqueue.insert((key_sucessor, cumulative_cost), cumulative_cost)\n",
        "\n",
        "\t\tif(reached_goal):\n",
        "\t\t\tprint('\\nReached goal! Cost: %s\\n' % cumulative_cost_goal)\n",
        "\t\telse:\n",
        "\t\t\tprint('\\nUnfulfilled goal.\\n')\n",
        "\n",
        "\n",
        "if __name__ == \"__main__\":\n",
        "\n",
        "\t# build the graph...\n",
        "\t# adds nodes in the graph\n",
        "\tgraph = Graph()\n",
        "\tgraph.addNode('S') # start\n",
        "\tgraph.addNode('a')\n",
        "\tgraph.addNode('b')\n",
        "\tgraph.addNode('c')\n",
        "\tgraph.addNode('d')\n",
        "\tgraph.addNode('e')\n",
        "\tgraph.addNode('f')\n",
        "\tgraph.addNode('G') # goal\n",
        "\tgraph.addNode('h')\n",
        "\tgraph.addNode('p')\n",
        "\tgraph.addNode('q')\n",
        "\tgraph.addNode('r')\n",
        "\t# linking the nodes\n",
        "\tgraph.connect('S', 'd', 3)\n",
        "\tgraph.connect('S', 'e', 9)\n",
        "\tgraph.connect('S', 'p', 1)\n",
        "\tgraph.connect('b', 'a', 2)\n",
        "\tgraph.connect('c', 'a', 2)\n",
        "\tgraph.connect('d', 'b', 1)\n",
        "\tgraph.connect('d', 'c', 8)\n",
        "\tgraph.connect('d', 'e', 2)\n",
        "\tgraph.connect('e', 'h', 8)\n",
        "\tgraph.connect('e', 'r', 2)\n",
        "\tgraph.connect('f', 'c', 3)\n",
        "\tgraph.connect('f', 'G', 2)\n",
        "\tgraph.connect('h', 'p', 4)\n",
        "\tgraph.connect('h', 'q', 4)\n",
        "\tgraph.connect('p', 'q', 15)\n",
        "\tgraph.connect('r', 'f', 1)\n",
        "\n",
        "\trun(graph=graph, key_node_start='S', key_node_goal='G', verbose=True, time_sleep=2)\n",
        "© 2021 GitHub"
      ],
      "execution_count": null,
      "outputs": []
    }
  ]
}