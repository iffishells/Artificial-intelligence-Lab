{
 "cells": [
  {
   "cell_type": "code",
   "execution_count": null,
   "metadata": {},
   "outputs": [],
   "source": [
    "from graphviz import Digraph\n",
    "\n",
    "\n",
    "def visualize_tree(tree):\n",
    "    if tree is None:\n",
    "        return \"Nothin in the tree\"\n",
    "\n",
    "    def add_nodes_edges(tree,dot=None):\n",
    "      # Create digraph object\n",
    "        if dot is None:\n",
    "            dot = Digraph()\n",
    "            dot.attr('node', shape='circle')\n",
    "            dot.node(name=str(tree), label=str(tree.val))\n",
    "        for child in [tree.left, tree.right]:\n",
    "            if child is not None:\n",
    "                if child == tree.left:\n",
    "                    dot.attr('node', shape='circle', style='filled',fillcolor='lightblue')\n",
    "                if child == tree.right:\n",
    "                    dot.attr('node', shape='doublecircle', style='filled',fillcolor='seashell')\n",
    "                dot.node(name=str(child) ,label=str(child.val))\n",
    "                dot.edge(str(tree), str(child))\n",
    "                dot = add_nodes_edges(child, dot=dot) # recursive call\n",
    "    \n",
    "        return dot\n",
    "  # Add nodes recursively and create a list of edges\n",
    "    dot = add_nodes_edges(tree)\n",
    "  # Visualize the graph\n",
    "    display(dot)\n",
    "\n",
    "def print_tree(tree, level=0, label='.'):\n",
    "    print(' ' * (level*2) + label + ' : ', tree.val)\n",
    "    for child, lbl in zip([tree.left, tree.right], ['L', 'R']):\n",
    "        if child is not None:\n",
    "            print_tree(child, level+1, lbl)\n"
   ]
  },
  {
   "cell_type": "code",
   "execution_count": null,
   "metadata": {},
   "outputs": [],
   "source": [
    "class TreeNode:\n",
    "\n",
    "    def __init__(self,x):\n",
    "        self.val = x \n",
    "        self.left = None\n",
    "        self.right = None\n",
    "\n"
   ]
  },
  {
   "cell_type": "code",
   "execution_count": null,
   "metadata": {},
   "outputs": [],
   "source": [
    "\n",
    "t1 = TreeNode(1)\n",
    "\n",
    "t1.left = TreeNode(4)\n",
    "t1.right = TreeNode(12)\n",
    "t1.left.left = TreeNode(14)\n",
    "t1.left.right = TreeNode(20)\n",
    "t1.right.left = TreeNode(50)\n",
    "\n",
    "visualize_tree(t1)"
   ]
  },
  {
   "cell_type": "code",
   "execution_count": 10,
   "metadata": {},
   "outputs": [
    {
     "name": "stdout",
     "output_type": "stream",
     "text": [
      "Requirement already satisfied: graphviz in /home/iffishells/anaconda3/lib/python3.8/site-packages (0.16)\n"
     ]
    }
   ],
   "source": [
    "!pip3 install graphviz"
   ]
  },
  {
   "cell_type": "code",
   "execution_count": null,
   "metadata": {},
   "outputs": [
    {
     "name": "stdout",
     "output_type": "stream",
     "text": [
      "Collecting package metadata (current_repodata.json): done\n",
      "Solving environment: failed with initial frozen solve. Retrying with flexible solve.\n",
      "Solving environment: failed with repodata from current_repodata.json, will retry with next repodata source.\n",
      "Collecting package metadata (repodata.json): done\n",
      "Solving environment: \\ "
     ]
    }
   ],
   "source": [
    "! conda install -c conda-forge python-graphviz\n"
   ]
  },
  {
   "cell_type": "code",
   "execution_count": null,
   "metadata": {},
   "outputs": [],
   "source": []
  }
 ],
 "metadata": {
  "kernelspec": {
   "display_name": "Python 3",
   "language": "python",
   "name": "python3"
  },
  "language_info": {
   "codemirror_mode": {
    "name": "ipython",
    "version": 3
   },
   "file_extension": ".py",
   "mimetype": "text/x-python",
   "name": "python",
   "nbconvert_exporter": "python",
   "pygments_lexer": "ipython3",
   "version": "3.8.3"
  }
 },
 "nbformat": 4,
 "nbformat_minor": 4
}
