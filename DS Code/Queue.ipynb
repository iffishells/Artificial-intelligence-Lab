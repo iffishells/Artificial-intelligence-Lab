{
 "cells": [
  {
   "cell_type": "code",
   "execution_count": 1,
   "metadata": {},
   "outputs": [
    {
     "name": "stdout",
     "output_type": "stream",
     "text": [
      "10\n"
     ]
    }
   ],
   "source": [
    "class Queue:\n",
    "\n",
    "    def __init__(self):\n",
    "        self.size=5\n",
    "        self.q = list(range(self.size))\n",
    "        self.i = 0\n",
    "        self.o = 0\n",
    "\n",
    "        self.is_empty = True\n",
    "        self.is_full = False\n",
    "\n",
    "def inc(self,idx):\n",
    "\n",
    "    if idx + 1 ==self.size:\n",
    "        return 0\n",
    "    else:\n",
    "        return idx +1\n",
    "Queue.inc = inc\n",
    "\n",
    "  \n",
    "def enqueue(self,val):\n",
    "\n",
    "    if self.is_full:\n",
    "        raise IndexError(\"Queue is full ,You can't be Enqueue\")\n",
    "\n",
    "    self.q[self.i] = val\n",
    "    self.i = self.inc(self.i)\n",
    "\n",
    "    if self.i == self.o:\n",
    "        self.is_full = True\n",
    "\n",
    "    self.is_empty = False\n",
    "\n",
    "Queue.enqueue = enqueue\n",
    "\n",
    "def dequeue(self):\n",
    "\n",
    "    if self.is_empty:\n",
    "        raise IndexError(\"Queue is empty you can't be dequeue\")\n",
    "\n",
    "    ret = self.q[self.o]\n",
    "    self.o = self.inc(self.o)\n",
    "\n",
    "    if self.i == self.o:\n",
    "        self.is_empty = True\n",
    "\n",
    "    self.is_ful = False\n",
    "    return ret\n",
    "\n",
    "Queue.dequeue = dequeue\n",
    "\n",
    "\n",
    "def __str__(self):\n",
    "    return str(self.q) + \" , in : \"+str(self.i) + \" , out: \"+ str(self.o)\n",
    "\n",
    "Queue.__str__=__str__\n",
    "\n",
    "\n",
    "q = Queue()\n",
    "\n",
    "q.enqueue(10)\n",
    "q.enqueue(20)\n",
    "q.enqueue(30)\n",
    "q.enqueue(40)\n",
    "q.enqueue(50)\n",
    "\n",
    "# q.enqueue(50)  will get error\n",
    "\n",
    "# print(q)\n",
    "\n",
    "print(q.dequeue())"
   ]
  },
  {
   "cell_type": "code",
   "execution_count": null,
   "metadata": {},
   "outputs": [],
   "source": []
  }
 ],
 "metadata": {
  "kernelspec": {
   "display_name": "Python 3",
   "language": "python",
   "name": "python3"
  },
  "language_info": {
   "codemirror_mode": {
    "name": "ipython",
    "version": 3
   },
   "file_extension": ".py",
   "mimetype": "text/x-python",
   "name": "python",
   "nbconvert_exporter": "python",
   "pygments_lexer": "ipython3",
   "version": "3.8.3"
  }
 },
 "nbformat": 4,
 "nbformat_minor": 4
}
